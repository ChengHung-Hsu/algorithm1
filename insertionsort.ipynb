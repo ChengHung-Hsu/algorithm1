{
  "nbformat": 4,
  "nbformat_minor": 0,
  "metadata": {
    "colab": {
      "name": "insertionsort.ipynb",
      "provenance": [],
      "collapsed_sections": [],
      "include_colab_link": true
    },
    "kernelspec": {
      "name": "python3",
      "display_name": "Python 3"
    }
  },
  "cells": [
    {
      "cell_type": "markdown",
      "metadata": {
        "id": "view-in-github",
        "colab_type": "text"
      },
      "source": [
        "<a href=\"https://colab.research.google.com/github/ChengHung-Hsu/algorithm1/blob/master/insertionsort.ipynb\" target=\"_parent\"><img src=\"https://colab.research.google.com/assets/colab-badge.svg\" alt=\"Open In Colab\"/></a>"
      ]
    },
    {
      "cell_type": "markdown",
      "metadata": {
        "id": "j95w6SLwOC0z",
        "colab_type": "text"
      },
      "source": [
        "Insertion sort (插入排序)"
      ]
    },
    {
      "cell_type": "code",
      "metadata": {
        "id": "BxBaYEwzNj_v",
        "colab_type": "code",
        "colab": {
          "base_uri": "https://localhost:8080/",
          "height": 289
        },
        "outputId": "ea01a221-de83-470a-89d1-db62f9ee5c37"
      },
      "source": [
        "\n",
        "def Insertion_Sort(datas):\n",
        "    for i in range(1, len(datas)):  # \n",
        "        for j in range(i):\n",
        "            current = datas[i]\n",
        "            if current < datas[j]:\n",
        "                for k in range(i,j):\n",
        "                  print(datas)\n",
        "    return datas\n",
        "\n",
        "\n",
        "def insertionSort(arr):\n",
        "    for i in range(len(arr)):\n",
        "        preIndex = i-1\n",
        "        current = arr[i]\n",
        "        while preIndex >= 0 and arr[preIndex] > current:\n",
        "            arr[preIndex+1] = arr[preIndex]\n",
        "            preIndex-=1\n",
        "        arr[preIndex+1] = current\n",
        "        print(arr)\n",
        "    return arr\n",
        "\n",
        "if __name__ == '__main__':\n",
        "    import random\n",
        "    a = list(range(1,16))\n",
        "    random.shuffle(a)\n",
        "    b = a.copy()\n",
        "\n",
        "    arr = insertionSort(a)\n",
        "    print('---'*10)\n",
        "    Insertion_Sort(b)"
      ],
      "execution_count": 3,
      "outputs": [
        {
          "output_type": "stream",
          "text": [
            "[13, 2, 12, 8, 15, 9, 6, 10, 11, 3, 4, 5, 7, 14, 1]\n",
            "[2, 13, 12, 8, 15, 9, 6, 10, 11, 3, 4, 5, 7, 14, 1]\n",
            "[2, 12, 13, 8, 15, 9, 6, 10, 11, 3, 4, 5, 7, 14, 1]\n",
            "[2, 8, 12, 13, 15, 9, 6, 10, 11, 3, 4, 5, 7, 14, 1]\n",
            "[2, 8, 12, 13, 15, 9, 6, 10, 11, 3, 4, 5, 7, 14, 1]\n",
            "[2, 8, 9, 12, 13, 15, 6, 10, 11, 3, 4, 5, 7, 14, 1]\n",
            "[2, 6, 8, 9, 12, 13, 15, 10, 11, 3, 4, 5, 7, 14, 1]\n",
            "[2, 6, 8, 9, 10, 12, 13, 15, 11, 3, 4, 5, 7, 14, 1]\n",
            "[2, 6, 8, 9, 10, 11, 12, 13, 15, 3, 4, 5, 7, 14, 1]\n",
            "[2, 3, 6, 8, 9, 10, 11, 12, 13, 15, 4, 5, 7, 14, 1]\n",
            "[2, 3, 4, 6, 8, 9, 10, 11, 12, 13, 15, 5, 7, 14, 1]\n",
            "[2, 3, 4, 5, 6, 8, 9, 10, 11, 12, 13, 15, 7, 14, 1]\n",
            "[2, 3, 4, 5, 6, 7, 8, 9, 10, 11, 12, 13, 15, 14, 1]\n",
            "[2, 3, 4, 5, 6, 7, 8, 9, 10, 11, 12, 13, 14, 15, 1]\n",
            "[1, 2, 3, 4, 5, 6, 7, 8, 9, 10, 11, 12, 13, 14, 15]\n",
            "------------------------------\n"
          ],
          "name": "stdout"
        }
      ]
    }
  ]
}