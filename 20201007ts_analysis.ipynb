{
  "nbformat": 4,
  "nbformat_minor": 0,
  "metadata": {
    "colab": {
      "name": "Untitled0.ipynb",
      "provenance": [],
      "include_colab_link": true
    },
    "kernelspec": {
      "name": "python3",
      "display_name": "Python 3"
    }
  },
  "cells": [
    {
      "cell_type": "markdown",
      "metadata": {
        "id": "view-in-github",
        "colab_type": "text"
      },
      "source": [
        "<a href=\"https://colab.research.google.com/github/ChengHung-Hsu/algorithm1/blob/master/20201007ts_analysis.ipynb\" target=\"_parent\"><img src=\"https://colab.research.google.com/assets/colab-badge.svg\" alt=\"Open In Colab\"/></a>"
      ]
    },
    {
      "cell_type": "markdown",
      "metadata": {
        "id": "AtRrLq4s6sjD"
      },
      "source": [
        "\"時間與空間複雜度\"hw"
      ]
    },
    {
      "cell_type": "markdown",
      "metadata": {
        "id": "hAnnTIeX7xKR"
      },
      "source": [
        "法一(時間換空間): 輸入一個年份，判斷是不是閏年"
      ]
    },
    {
      "cell_type": "code",
      "metadata": {
        "id": "vEp9A6wR6kVm",
        "outputId": "d92b64c9-515e-414d-bc22-c5f26332b556",
        "colab": {
          "base_uri": "https://localhost:8080/"
        }
      },
      "source": [
        "year = int(input(\"請輸入一個年份:\"))                      #隨機輸入年份\n",
        "if (year % 4) == 0 and (year % 100) !=0 or (year % 400) == 0:   #閏年判斷(1.能被400整除的年份 2.能被4整除，但是不能被100整除的年份)\n",
        "    print(\"%s年是閏年\" % year)\n",
        "else:\n",
        "    print(\"%s年不是閏年\" % year)"
      ],
      "execution_count": null,
      "outputs": [
        {
          "output_type": "stream",
          "text": [
            "請輸入一個年份:2020\n",
            "2020年是閏年\n"
          ],
          "name": "stdout"
        }
      ]
    },
    {
      "cell_type": "markdown",
      "metadata": {
        "id": "_QkG0Yp0-7ZR"
      },
      "source": [
        "法二(空間換時間):建立年份(2020~2040)串列，輸入任一年份，輸出1為閏年0則是正常年"
      ]
    },
    {
      "cell_type": "code",
      "metadata": {
        "id": "NeNIfNEA--qh",
        "outputId": "19fe0aa0-8b05-4ab6-f567-ae549651d89f",
        "colab": {
          "base_uri": "https://localhost:8080/",
          "height": 52
        }
      },
      "source": [
        "A = []                                    #先建立一個空串列\n",
        "for i in range(2020,2040):                          #限制年份\n",
        "  if (i % 4) == 0 and (i % 100) !=0 or (i % 400) == 0:     #判斷閏年         \n",
        "    A.append(i)                                #把判斷出閏年的月份加入\n",
        "\n",
        "num = int(input(\"請輸入2020~2040中任一年份:\"))                  #任入限定年份\n",
        "if num in A:                                   #輸入限定年份，判斷(非)閏年\n",
        "  print(\"(閏年)=1\")\n",
        "else: \n",
        "  print(\"(不是閏年)=0\")\n",
        "\n",
        "          \n",
        "\n"
      ],
      "execution_count": 14,
      "outputs": [
        {
          "output_type": "stream",
          "text": [
            "請輸入2020~2040中任一年份:2020\n",
            "(閏年)=1\n"
          ],
          "name": "stdout"
        }
      ]
    }
  ]
}