{
  "nbformat": 4,
  "nbformat_minor": 0,
  "metadata": {
    "colab": {
      "name": "Untitled2.ipynb",
      "provenance": [],
      "authorship_tag": "ABX9TyP1ubYXvEVXxszTnisndoYq",
      "include_colab_link": true
    },
    "kernelspec": {
      "name": "python3",
      "display_name": "Python 3"
    }
  },
  "cells": [
    {
      "cell_type": "markdown",
      "metadata": {
        "id": "view-in-github",
        "colab_type": "text"
      },
      "source": [
        "<a href=\"https://colab.research.google.com/github/ChengHung-Hsu/algorithm1/blob/master/Binary%20Search.ipynb\" target=\"_parent\"><img src=\"https://colab.research.google.com/assets/colab-badge.svg\" alt=\"Open In Colab\"/></a>"
      ]
    },
    {
      "cell_type": "markdown",
      "metadata": {
        "id": "ln8Ru_RlAYH4"
      },
      "source": [
        "1.二元搜尋範例"
      ]
    },
    {
      "cell_type": "code",
      "metadata": {
        "id": "mZaM7mrc8c31",
        "outputId": "0fe25557-12c9-48c9-b93f-11419af3b501",
        "colab": {
          "base_uri": "https://localhost:8080/",
          "height": 34
        }
      },
      "source": [
        "def binarySearch(arr,l,r,x):\n",
        "  if r >= l:\n",
        "    mid = l+(r-l)//2\n",
        "    if arr[mid] == x:\n",
        "      return mid\n",
        "    elif arr[mid] > x:\n",
        "      return binarySearch(arr,l,mid-1,x)\n",
        "    else:\n",
        "      return binarySearch(arr,mid+1,r,x)\n",
        "  else:\n",
        "    return-1\n",
        "arr = [5,8,9,15,30]\n",
        "x=8\n",
        "\n",
        "result = binarySearch(arr,0,len(arr)-1,x)\n",
        "if result != -1:\n",
        "  print(\"元素在索引%d\"%result)\n",
        "else:\n",
        "  print(\"陣列中找不到該元素\")"
      ],
      "execution_count": null,
      "outputs": [
        {
          "output_type": "stream",
          "text": [
            "元素在索引1\n"
          ],
          "name": "stdout"
        }
      ]
    },
    {
      "cell_type": "markdown",
      "metadata": {
        "id": "grGmTm-KAe5a"
      },
      "source": [
        "2.經過排序後的二元搜尋"
      ]
    },
    {
      "cell_type": "code",
      "metadata": {
        "id": "exDOP-WtAnI5",
        "outputId": "676b5715-3aa7-4a6c-d2b2-6ddccba1a3c3",
        "colab": {
          "base_uri": "https://localhost:8080/",
          "height": 187
        }
      },
      "source": [
        "def binarySearch(arr,l,r,x):\n",
        "  if r >= l:\n",
        "    mid = l+(r-l)//2\n",
        "    if arr[mid] == x:\n",
        "      return mid\n",
        "    elif arr[mid] > x:\n",
        "      return binarySearch(arr,l,mid-1,x)\n",
        "    else:\n",
        "      return binarySearch(arr,mid+1,r,x)\n",
        "  else:\n",
        "    return-1\n",
        "\n",
        "def Bubble_Sort(datas):\n",
        "    for i in range(1, len(datas)): # \n",
        "        for j in range(len(datas)-i):   # \n",
        "            if datas[j] > datas[j+1]:   # \n",
        "                datas[j], datas[j+1] = datas[j+1], datas[j]\n",
        "    return datas\n",
        "\n",
        "\n",
        "if __name__ == '__main__':\n",
        "  arr = []                      #新增一個null list\n",
        "  num1 = int(input(\"選擇輸入幾個數字做氣泡排序:\")) #限定測試數字總數\n",
        "  for i in range(num1):              #進loop\n",
        "    num2 = int(input())              #input測試數字\n",
        "    arr.append(num2)\n",
        "  print(\"您輸入的串列:\", end = '')                 #將測試數字加到list中\n",
        "  print(arr)                      \n",
        "  arr = Bubble_Sort(arr)\n",
        "  print(\"排序後的串列:\", end = '')                \n",
        "  print(arr)                     \n",
        "\n",
        "print(\"Key value值:\", end = '')\n",
        "x = int(input())\n",
        "\n",
        "result = binarySearch(arr,0,len(arr)-1,x)\n",
        "if result != -1:\n",
        "  print(\"元素在索引%d\"%result)\n",
        "else:\n",
        "  print(\"陣列中找不到該元素\")"
      ],
      "execution_count": 6,
      "outputs": [
        {
          "output_type": "stream",
          "text": [
            "選擇輸入幾個數字做氣泡排序:5\n",
            "20\n",
            "30\n",
            "60\n",
            "10\n",
            "5\n",
            "您輸入的串列:[20, 30, 60, 10, 5]\n",
            "排序後的串列:[5, 10, 20, 30, 60]\n",
            "Key value值:5\n",
            "元素在索引0\n"
          ],
          "name": "stdout"
        }
      ]
    }
  ]
}