{
  "nbformat": 4,
  "nbformat_minor": 0,
  "metadata": {
    "colab": {
      "name": "Untitled1.ipynb",
      "provenance": [],
      "authorship_tag": "ABX9TyMbs3kxGxn1R0xpCuTYm9Kf",
      "include_colab_link": true
    },
    "kernelspec": {
      "name": "python3",
      "display_name": "Python 3"
    }
  },
  "cells": [
    {
      "cell_type": "markdown",
      "metadata": {
        "id": "view-in-github",
        "colab_type": "text"
      },
      "source": [
        "<a href=\"https://colab.research.google.com/github/ChengHung-Hsu/algorithm1/blob/master/1118%E6%9C%9F%E4%B8%AD%E8%80%83.ipynb\" target=\"_parent\"><img src=\"https://colab.research.google.com/assets/colab-badge.svg\" alt=\"Open In Colab\"/></a>"
      ]
    },
    {
      "cell_type": "markdown",
      "metadata": {
        "id": "Ez2JtvKWP56R"
      },
      "source": [
        "插入(小到大)1~100"
      ]
    },
    {
      "cell_type": "code",
      "metadata": {
        "colab": {
          "base_uri": "https://localhost:8080/"
        },
        "id": "enMN2nyyOJGB",
        "outputId": "0bf7cf5d-8c0e-4c46-f4bf-0a64c174f76e"
      },
      "source": [
        "def insertionSort(arr):\n",
        "    for i in range(len(arr)):\n",
        "        preIndex = i-1\n",
        "        current = arr[i]\n",
        "        while preIndex >= 0 and arr[preIndex] > current:\n",
        "            arr[preIndex+1] = arr[preIndex]\n",
        "            preIndex-=1\n",
        "        arr[preIndex+1] = current\n",
        "        print(arr)\n",
        "    return arr\n",
        "\n",
        "if __name__ == '__main__':\n",
        "    import random\n",
        "    a=[]\n",
        "    for i in range(0,8):\n",
        "      k = random.randint(0,100)\n",
        "      a.append(k)\n",
        "    arr = insertionSort(a)\n",
        "    print('---'*10)"
      ],
      "execution_count": 2,
      "outputs": [
        {
          "output_type": "stream",
          "text": [
            "[92, 91, 82, 76, 60, 10, 21, 79]\n",
            "[91, 92, 82, 76, 60, 10, 21, 79]\n",
            "[82, 91, 92, 76, 60, 10, 21, 79]\n",
            "[76, 82, 91, 92, 60, 10, 21, 79]\n",
            "[60, 76, 82, 91, 92, 10, 21, 79]\n",
            "[10, 60, 76, 82, 91, 92, 21, 79]\n",
            "[10, 21, 60, 76, 82, 91, 92, 79]\n",
            "[10, 21, 60, 76, 79, 82, 91, 92]\n",
            "------------------------------\n"
          ],
          "name": "stdout"
        }
      ]
    }
  ]
}