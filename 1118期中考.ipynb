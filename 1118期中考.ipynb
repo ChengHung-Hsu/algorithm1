{
  "nbformat": 4,
  "nbformat_minor": 0,
  "metadata": {
    "colab": {
      "name": "Untitled1.ipynb",
      "provenance": [],
      "authorship_tag": "ABX9TyPv7qft3O4VO5e2FL/NpWvc",
      "include_colab_link": true
    },
    "kernelspec": {
      "name": "python3",
      "display_name": "Python 3"
    }
  },
  "cells": [
    {
      "cell_type": "markdown",
      "metadata": {
        "id": "view-in-github",
        "colab_type": "text"
      },
      "source": [
        "<a href=\"https://colab.research.google.com/github/ChengHung-Hsu/algorithm1/blob/master/1118%E6%9C%9F%E4%B8%AD%E8%80%83.ipynb\" target=\"_parent\"><img src=\"https://colab.research.google.com/assets/colab-badge.svg\" alt=\"Open In Colab\"/></a>"
      ]
    },
    {
      "cell_type": "markdown",
      "metadata": {
        "id": "iQPsS6Bmabmu"
      },
      "source": [
        "選擇(大到小)1~100"
      ]
    },
    {
      "cell_type": "code",
      "metadata": {
        "id": "EeeOFvPwabJu",
        "outputId": "4ea944b5-ada1-44e6-a575-9853612d2b46",
        "colab": {
          "base_uri": "https://localhost:8080/"
        }
      },
      "source": [
        "def selectionSort(datas):\n",
        "    b=1\n",
        "    for i in range(len(datas)):\n",
        "        min = i                     # 第一次選從第一個數開始,第二次從第二個數開始\n",
        "        for j in range(i+1, len(datas)):        # 用記錄的max數與其他的比較\n",
        "            if datas[j] > datas[min]:\n",
        "                min = j\n",
        "\n",
        "        datas[i], datas[min] = datas[min], datas[i]\n",
        "        \n",
        "        print(\"第\",b,\"次排序:\",datas)\n",
        "        b=b+1                        #迴圈每次執行完+1                \n",
        "    return datas\n",
        "\n",
        "\n",
        "if __name__ == '__main__':\n",
        "    import random\n",
        "    ori_list = []\n",
        "    for i in range(0,8):                   #隨機產生8個1~100的數字(第20~21行)\n",
        "      k = random.randint(1,100)               \n",
        "      ori_list.append(k)\n",
        "    print(\"原始數列:\",ori_list)                    #將k加入串列中\n",
        "    end = selectionSort(ori_list)"
      ],
      "execution_count": 69,
      "outputs": [
        {
          "output_type": "stream",
          "text": [
            "原始數列: [30, 11, 9, 80, 77, 61, 61, 43]\n",
            "第 1 次排序: [80, 11, 9, 30, 77, 61, 61, 43]\n",
            "第 2 次排序: [80, 77, 9, 30, 11, 61, 61, 43]\n",
            "第 3 次排序: [80, 77, 61, 30, 11, 9, 61, 43]\n",
            "第 4 次排序: [80, 77, 61, 61, 11, 9, 30, 43]\n",
            "第 5 次排序: [80, 77, 61, 61, 43, 9, 30, 11]\n",
            "第 6 次排序: [80, 77, 61, 61, 43, 30, 9, 11]\n",
            "第 7 次排序: [80, 77, 61, 61, 43, 30, 11, 9]\n",
            "第 8 次排序: [80, 77, 61, 61, 43, 30, 11, 9]\n"
          ],
          "name": "stdout"
        }
      ]
    },
    {
      "cell_type": "markdown",
      "metadata": {
        "id": "Ez2JtvKWP56R"
      },
      "source": [
        "插入(小到大)1~100"
      ]
    },
    {
      "cell_type": "code",
      "metadata": {
        "colab": {
          "base_uri": "https://localhost:8080/"
        },
        "id": "enMN2nyyOJGB",
        "outputId": "0b4fb30f-8e15-49f8-e9ac-28e5b99035b7"
      },
      "source": [
        "def insertionSort(arr):\n",
        "    b=0                             #給b值,當印出計數器，從0開始\n",
        "    for i in range(len(arr)):                 #insertionsort運算方法(第3~9行)\n",
        "        preIndex = i-1\n",
        "        current = arr[i]\n",
        "        while preIndex >= 0 and arr[preIndex] > current:\n",
        "            arr[preIndex+1] = arr[preIndex]\n",
        "            preIndex-=1\n",
        "        arr[preIndex+1] = current\n",
        "        if b==0:                      #設判斷式，b=0為原始數列；b=1,2,3,....剩下為排序次數\n",
        "          print(\"原始數列:\",arr)\n",
        "        else:\n",
        "          print(\"第\",b,\"次排序:\",arr)\n",
        "        b=b+1                        #迴圈每次執行完+1\n",
        "    return arr\n",
        "\n",
        "if __name__ == '__main__':\n",
        "    import random\n",
        "    ori_list = []                       #新增一個空串列ori_list\n",
        "    for i in range(0,8):                   #隨機產生8個1~100的數字(第20~21行)\n",
        "      k = random.randint(1,100)               \n",
        "      ori_list.append(k)                    #將k加入串列中\n",
        "    end = insertionSort(ori_list)               #將def的內容套用在ori_list "
      ],
      "execution_count": null,
      "outputs": [
        {
          "output_type": "stream",
          "text": [
            "原始數列: [53, 42, 48, 33, 13, 96, 44, 35]\n",
            "第 1 次排序: [42, 53, 48, 33, 13, 96, 44, 35]\n",
            "第 2 次排序: [42, 48, 53, 33, 13, 96, 44, 35]\n",
            "第 3 次排序: [33, 42, 48, 53, 13, 96, 44, 35]\n",
            "第 4 次排序: [13, 33, 42, 48, 53, 96, 44, 35]\n",
            "第 5 次排序: [13, 33, 42, 48, 53, 96, 44, 35]\n",
            "第 6 次排序: [13, 33, 42, 44, 48, 53, 96, 35]\n",
            "第 7 次排序: [13, 33, 35, 42, 44, 48, 53, 96]\n"
          ],
          "name": "stdout"
        }
      ]
    }
  ]
}