{
  "nbformat": 4,
  "nbformat_minor": 0,
  "metadata": {
    "colab": {
      "name": "Untitled1.ipynb",
      "provenance": [],
      "authorship_tag": "ABX9TyMAVLioFf9sBYMcPU10+DTU",
      "include_colab_link": true
    },
    "kernelspec": {
      "name": "python3",
      "display_name": "Python 3"
    }
  },
  "cells": [
    {
      "cell_type": "markdown",
      "metadata": {
        "id": "view-in-github",
        "colab_type": "text"
      },
      "source": [
        "<a href=\"https://colab.research.google.com/github/ChengHung-Hsu/algorithm1/blob/master/1118%E6%9C%9F%E4%B8%AD%E8%80%83.ipynb\" target=\"_parent\"><img src=\"https://colab.research.google.com/assets/colab-badge.svg\" alt=\"Open In Colab\"/></a>"
      ]
    },
    {
      "cell_type": "markdown",
      "metadata": {
        "id": "iQPsS6Bmabmu"
      },
      "source": [
        "選擇(大到小)1~100"
      ]
    },
    {
      "cell_type": "code",
      "metadata": {
        "id": "EeeOFvPwabJu",
        "colab": {
          "base_uri": "https://localhost:8080/"
        },
        "outputId": "646a1a55-9e31-4b65-d937-d3c6e7d21102"
      },
      "source": [
        "def selectionSort(datas):\n",
        "    b=1                            #當印出計數器,因為迴圈要先-1所以一開始設1\n",
        "    for i in range(len(datas)-1):\n",
        "        max = i                     #第一次從第一個數開始進行，第二次第二個...\n",
        "        for j in range(i+1, len(datas)):        #用記錄的(max數)依序與後面數比較\n",
        "            if datas[j] > datas[max]:        #當後數j值比前數max還大時，max值被j取代(6~7行)\n",
        "                max = j\n",
        "\n",
        "        datas[i], datas[max] = datas[max], datas[i]   #出迴圈時，max已經被j取代，i和max位置互調\n",
        "        \n",
        "        print(\"第\",b,\"次排序:\",datas)\n",
        "        b=b+1                        #迴圈每次執行完+1                \n",
        "    return datas\n",
        "\n",
        "\n",
        "if __name__ == '__main__':\n",
        "    import random\n",
        "    ori_list = []                       #新增一個空串列ori_list\n",
        "    for i in range(0,8):                   #隨機產生8個1~100的數字(第20~21行)\n",
        "      k = random.randint(1,100)               \n",
        "      ori_list.append(k)                    #將k加入串列中\n",
        "\n",
        "    print(\"輸出結果:\",\"\\n原始數列:\",ori_list)                 \n",
        "    end = selectionSort(ori_list)"
      ],
      "execution_count": 12,
      "outputs": [
        {
          "output_type": "stream",
          "text": [
            "輸出結果: \n",
            "原始數列: [2, 68, 72, 88, 19, 79, 22, 98]\n",
            "第 1 次排序: [98, 68, 72, 88, 19, 79, 22, 2]\n",
            "第 2 次排序: [98, 88, 72, 68, 19, 79, 22, 2]\n",
            "第 3 次排序: [98, 88, 79, 68, 19, 72, 22, 2]\n",
            "第 4 次排序: [98, 88, 79, 72, 19, 68, 22, 2]\n",
            "第 5 次排序: [98, 88, 79, 72, 68, 19, 22, 2]\n",
            "第 6 次排序: [98, 88, 79, 72, 68, 22, 19, 2]\n",
            "第 7 次排序: [98, 88, 79, 72, 68, 22, 19, 2]\n"
          ],
          "name": "stdout"
        }
      ]
    },
    {
      "cell_type": "markdown",
      "metadata": {
        "id": "Ez2JtvKWP56R"
      },
      "source": [
        "插入(小到大)1~100"
      ]
    },
    {
      "cell_type": "code",
      "metadata": {
        "colab": {
          "base_uri": "https://localhost:8080/"
        },
        "id": "enMN2nyyOJGB",
        "outputId": "c0cfbc5a-5ccd-4326-8107-01f1f9204753"
      },
      "source": [
        "def insertionSort(arr):\n",
        "    b=0                             #當印出計數器，從0開始\n",
        "    for i in range(len(arr)):                \n",
        "        preIndex = i-1                   #串列中(前一個判斷變數)preIndex\n",
        "        current = arr[i]                  #串列中(當前數索引值)current\n",
        "        while preIndex >= 0 and arr[preIndex] > current:#當preIndex值非0，和索引值比current大時執行迴圈\n",
        "            arr[preIndex+1] = arr[preIndex]       #每次串列中的preIndex索引值每次+1\n",
        "            preIndex-=1                  #串列中preIndex變數值每次-1，直到跳出迴圈\n",
        "        arr[preIndex+1] = current              #(大的數擺後，小的丟前)\n",
        "\n",
        "        if b==0:                      #設判斷式，b=0為原始數列；b=1,2,3,....剩下為排序次數\n",
        "          print(\"原始數列:\",arr)\n",
        "        else:\n",
        "          print(\"第\",b,\"次排序:\",arr)\n",
        "        b=b+1                        #迴圈每次執行完+1\n",
        "    return arr\n",
        "\n",
        "if __name__ == '__main__':\n",
        "    import random\n",
        "    ori_list = []                       #新增一個空串列ori_list\n",
        "    for i in range(0,8):                   #隨機產生8個1~100的數字(第20~21行)\n",
        "      k = random.randint(1,100)               #將k加入串列中\n",
        "      ori_list.append(k)\n",
        "    print(\"輸出結果:\")                    \n",
        "    end = insertionSort(ori_list)               #將def的內容套用在ori_list "
      ],
      "execution_count": 13,
      "outputs": [
        {
          "output_type": "stream",
          "text": [
            "輸出結果:\n",
            "原始數列: [54, 57, 68, 6, 28, 39, 82, 21]\n",
            "第 1 次排序: [54, 57, 68, 6, 28, 39, 82, 21]\n",
            "第 2 次排序: [54, 57, 68, 6, 28, 39, 82, 21]\n",
            "第 3 次排序: [6, 54, 57, 68, 28, 39, 82, 21]\n",
            "第 4 次排序: [6, 28, 54, 57, 68, 39, 82, 21]\n",
            "第 5 次排序: [6, 28, 39, 54, 57, 68, 82, 21]\n",
            "第 6 次排序: [6, 28, 39, 54, 57, 68, 82, 21]\n",
            "第 7 次排序: [6, 21, 28, 39, 54, 57, 68, 82]\n"
          ],
          "name": "stdout"
        }
      ]
    }
  ]
}