{
  "nbformat": 4,
  "nbformat_minor": 0,
  "metadata": {
    "colab": {
      "name": "Untitled1.ipynb",
      "provenance": [],
      "authorship_tag": "ABX9TyONie156B4pqIdi5h8+68xP",
      "include_colab_link": true
    },
    "kernelspec": {
      "name": "python3",
      "display_name": "Python 3"
    }
  },
  "cells": [
    {
      "cell_type": "markdown",
      "metadata": {
        "id": "view-in-github",
        "colab_type": "text"
      },
      "source": [
        "<a href=\"https://colab.research.google.com/github/ChengHung-Hsu/algorithm1/blob/master/Sequential%20Search.ipynb\" target=\"_parent\"><img src=\"https://colab.research.google.com/assets/colab-badge.svg\" alt=\"Open In Colab\"/></a>"
      ]
    },
    {
      "cell_type": "markdown",
      "metadata": {
        "id": "MvExbOzR-gFK"
      },
      "source": [
        "1.原本範例檔修改"
      ]
    },
    {
      "cell_type": "code",
      "metadata": {
        "id": "omfIthbVxIgX",
        "outputId": "88e27e2d-b81f-4978-8066-0bbcbf2f32ad",
        "colab": {
          "base_uri": "https://localhost:8080/",
          "height": 34
        }
      },
      "source": [
        "data = [20,31,50,17,16,36,19,8]\n",
        "def sequential_search(data,key):\n",
        "  for i in data:\n",
        "    if i == key:\n",
        "      print(\"找到了\")\n",
        "      break\n",
        "    else:\n",
        "      print(\"找不到\")\n",
        "      break      #這是錯的，只能判斷index1的值\n",
        "\n",
        "sequential_search(data,8)"
      ],
      "execution_count": null,
      "outputs": [
        {
          "output_type": "stream",
          "text": [
            "找不到\n"
          ],
          "name": "stdout"
        }
      ]
    },
    {
      "cell_type": "markdown",
      "metadata": {
        "id": "sJkReUgi-mlW"
      },
      "source": [
        "2.網路範例檔說明"
      ]
    },
    {
      "cell_type": "code",
      "metadata": {
        "id": "10aVIuU41oRJ",
        "outputId": "421e6864-b77f-4258-c9db-37b047e192cc",
        "colab": {
          "base_uri": "https://localhost:8080/",
          "height": 34
        }
      },
      "source": [
        "data = [20, 31, 50, 17, 16, 36, 19, 8]  \n",
        "\n",
        "def sequential_search(data, key):\n",
        "    tmp = [0] * (len(data) + 1)    #設一個空陣列，長度為data長度+1\n",
        "    for i in range(1, len(data)+1):   #將data的值給到tmp (這裡data要+1)原本的程式只能讀到第6個索引值\n",
        "        tmp[i] = data[i - 1]\n",
        "    tmp[0] = key              #設定key值 (這是關鍵,用來判斷找尋值是否在串列中)\n",
        "    i = len(data)              #設定索引並開始比較\n",
        "    while tmp[i] != tmp[0]:\n",
        "        i -= 1\n",
        "    return i - 1              #回傳索引\n",
        "\n",
        "index = sequential_search(data,8)\n",
        "if index >= 0:\n",
        "    print(\"找到了 \" + str(index))          #輸出(結果+索引值(從0開始))\n",
        "else:\n",
        "    print(\"找不到\")"
      ],
      "execution_count": null,
      "outputs": [
        {
          "output_type": "stream",
          "text": [
            "找到了 7\n"
          ],
          "name": "stdout"
        }
      ]
    }
  ]
}