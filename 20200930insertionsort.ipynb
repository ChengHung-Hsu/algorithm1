{
  "nbformat": 4,
  "nbformat_minor": 0,
  "metadata": {
    "colab": {
      "name": "insertionsort.ipynb",
      "provenance": [],
      "collapsed_sections": [],
      "include_colab_link": true
    },
    "kernelspec": {
      "name": "python3",
      "display_name": "Python 3"
    }
  },
  "cells": [
    {
      "cell_type": "markdown",
      "metadata": {
        "id": "view-in-github",
        "colab_type": "text"
      },
      "source": [
        "<a href=\"https://colab.research.google.com/github/ChengHung-Hsu/algorithm1/blob/master/20200930insertionsort.ipynb\" target=\"_parent\"><img src=\"https://colab.research.google.com/assets/colab-badge.svg\" alt=\"Open In Colab\"/></a>"
      ]
    },
    {
      "cell_type": "markdown",
      "metadata": {
        "id": "j95w6SLwOC0z"
      },
      "source": [
        "Insertion sort (插入排序)"
      ]
    },
    {
      "cell_type": "code",
      "metadata": {
        "id": "BxBaYEwzNj_v",
        "outputId": "554c35fb-4ef1-4e23-aef8-4c9f28df2d35",
        "colab": {
          "base_uri": "https://localhost:8080/",
          "height": 284
        }
      },
      "source": [
        "\n",
        "def Insertion_Sort(datas):\n",
        "    for i in range(1, len(datas)):     #n \n",
        "        for j in range(i):        #n*n\n",
        "            current = datas[i]     #n\n",
        "            if current < datas[j]:   #n\n",
        "                for k in range(i,j): #n*n\n",
        "                  print(datas)     #n\n",
        "    return datas                   #1\n",
        "                              #Total = 2n*n+4n+1   O(n*n)\n",
        "\n",
        "def insertionSort(arr):\n",
        "    for i in range(len(arr)):\n",
        "        preIndex = i-1\n",
        "        current = arr[i]\n",
        "        while preIndex >= 0 and arr[preIndex] > current:\n",
        "            arr[preIndex+1] = arr[preIndex]\n",
        "            preIndex-=1\n",
        "        arr[preIndex+1] = current\n",
        "        print(arr)\n",
        "    return arr\n",
        "\n",
        "if __name__ == '__main__':\n",
        "    import random\n",
        "    a = list(range(1,16))\n",
        "    random.shuffle(a)\n",
        "    b = a.copy()\n",
        "\n",
        "    arr = insertionSort(a)\n",
        "    print('---'*10)\n",
        "    Insertion_Sort(b)"
      ],
      "execution_count": 1,
      "outputs": [
        {
          "output_type": "stream",
          "text": [
            "[8, 6, 5, 4, 1, 14, 7, 2, 15, 11, 3, 9, 10, 13, 12]\n",
            "[6, 8, 5, 4, 1, 14, 7, 2, 15, 11, 3, 9, 10, 13, 12]\n",
            "[5, 6, 8, 4, 1, 14, 7, 2, 15, 11, 3, 9, 10, 13, 12]\n",
            "[4, 5, 6, 8, 1, 14, 7, 2, 15, 11, 3, 9, 10, 13, 12]\n",
            "[1, 4, 5, 6, 8, 14, 7, 2, 15, 11, 3, 9, 10, 13, 12]\n",
            "[1, 4, 5, 6, 8, 14, 7, 2, 15, 11, 3, 9, 10, 13, 12]\n",
            "[1, 4, 5, 6, 7, 8, 14, 2, 15, 11, 3, 9, 10, 13, 12]\n",
            "[1, 2, 4, 5, 6, 7, 8, 14, 15, 11, 3, 9, 10, 13, 12]\n",
            "[1, 2, 4, 5, 6, 7, 8, 14, 15, 11, 3, 9, 10, 13, 12]\n",
            "[1, 2, 4, 5, 6, 7, 8, 11, 14, 15, 3, 9, 10, 13, 12]\n",
            "[1, 2, 3, 4, 5, 6, 7, 8, 11, 14, 15, 9, 10, 13, 12]\n",
            "[1, 2, 3, 4, 5, 6, 7, 8, 9, 11, 14, 15, 10, 13, 12]\n",
            "[1, 2, 3, 4, 5, 6, 7, 8, 9, 10, 11, 14, 15, 13, 12]\n",
            "[1, 2, 3, 4, 5, 6, 7, 8, 9, 10, 11, 13, 14, 15, 12]\n",
            "[1, 2, 3, 4, 5, 6, 7, 8, 9, 10, 11, 12, 13, 14, 15]\n",
            "------------------------------\n"
          ],
          "name": "stdout"
        }
      ]
    }
  ]
}