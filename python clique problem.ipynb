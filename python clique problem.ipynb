{
  "nbformat": 4,
  "nbformat_minor": 0,
  "metadata": {
    "colab": {
      "name": "Untitled3.ipynb",
      "provenance": [],
      "authorship_tag": "ABX9TyMiEFtXB5ptbERVKptYmYsQ",
      "include_colab_link": true
    },
    "kernelspec": {
      "name": "python3",
      "display_name": "Python 3"
    }
  },
  "cells": [
    {
      "cell_type": "markdown",
      "metadata": {
        "id": "view-in-github",
        "colab_type": "text"
      },
      "source": [
        "<a href=\"https://colab.research.google.com/github/ChengHung-Hsu/algorithm1/blob/master/python%20clique%20problem.ipynb\" target=\"_parent\"><img src=\"https://colab.research.google.com/assets/colab-badge.svg\" alt=\"Open In Colab\"/></a>"
      ]
    },
    {
      "cell_type": "code",
      "metadata": {
        "colab": {
          "base_uri": "https://localhost:8080/"
        },
        "id": "H4jK8rtPQ8AQ",
        "outputId": "0bdcfe3a-50ed-47db-8b11-bad9ec342e90"
      },
      "source": [
        "from itertools import combinations\r\n",
        "import networkx as nx\r\n",
        "\r\n",
        "def k_cliques(graph):                  #判斷最大集團數量&連接頂點\r\n",
        "    # 2-cliques\r\n",
        "    cliques = [{i, j} for i, j in graph.edges() if i != j]\r\n",
        "    k = 2                      #先找最小連線(任2點)\r\n",
        "\r\n",
        "    while cliques:                  #當符合最小集團時\r\n",
        "        # result\r\n",
        "        yield k, cliques\r\n",
        "\r\n",
        "        # merge k-cliques into (k+1)-cliques\r\n",
        "        cliques_1 = set()\r\n",
        "        for u, v in combinations(cliques, 2):  #找第三點\r\n",
        "            w = u ^ v\r\n",
        "            if len(w) == 2 and graph.has_edge(*w):\r\n",
        "                cliques_1.add(tuple(u | w))  #利用共同點合併\r\n",
        "                                 #得到條件解\r\n",
        "        # remove duplicates\r\n",
        "        cliques = list(map(set, cliques_1))\r\n",
        "        k += 1                    #再重複動作直到不符合條件\r\n",
        "\r\n",
        "def print_cliques(graph, size_k):               #輸出格式\r\n",
        "    for k, cliques in k_cliques(graph):\r\n",
        "        if k == size_k:\r\n",
        "            print('%d-cliques = %d, %s.' % (k, len(cliques), cliques))\r\n",
        "\r\n",
        "\r\n",
        "nodes, edges = 6, 10           #已知有6個頂點，10個邊，最大集團size為3\r\n",
        "size_k = 3\r\n",
        "graph = nx.Graph()\r\n",
        "graph.add_nodes_from(range(nodes))\r\n",
        "graph.add_edge(1, 2)            #依序輸入最小連線(任一2點)進函式做判斷\r\n",
        "graph.add_edge(1, 3)\r\n",
        "graph.add_edge(1, 5)\r\n",
        "graph.add_edge(2, 3)\r\n",
        "graph.add_edge(2, 4)\r\n",
        "graph.add_edge(2, 6)\r\n",
        "graph.add_edge(3, 4)\r\n",
        "graph.add_edge(3, 6)\r\n",
        "graph.add_edge(4, 5)\r\n",
        "graph.add_edge(4, 6)\r\n",
        "\r\n",
        "print_cliques(graph, size_k)"
      ],
      "execution_count": 1,
      "outputs": [
        {
          "output_type": "stream",
          "text": [
            "3-cliques = 5, [{3, 4, 6}, {2, 3, 6}, {2, 4, 6}, {1, 2, 3}, {2, 3, 4}].\n"
          ],
          "name": "stdout"
        }
      ]
    }
  ]
}