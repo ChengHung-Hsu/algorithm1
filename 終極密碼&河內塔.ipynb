{
  "nbformat": 4,
  "nbformat_minor": 0,
  "metadata": {
    "colab": {
      "name": "Untitled4.ipynb",
      "provenance": [],
      "authorship_tag": "ABX9TyO8RRr0pGf+1iFlepessUyC",
      "include_colab_link": true
    },
    "kernelspec": {
      "name": "python3",
      "display_name": "Python 3"
    }
  },
  "cells": [
    {
      "cell_type": "markdown",
      "metadata": {
        "id": "view-in-github",
        "colab_type": "text"
      },
      "source": [
        "<a href=\"https://colab.research.google.com/github/ChengHung-Hsu/algorithm1/blob/master/%E7%B5%82%E6%A5%B5%E5%AF%86%E7%A2%BC%26%E6%B2%B3%E5%85%A7%E5%A1%94.ipynb\" target=\"_parent\"><img src=\"https://colab.research.google.com/assets/colab-badge.svg\" alt=\"Open In Colab\"/></a>"
      ]
    },
    {
      "cell_type": "markdown",
      "metadata": {
        "id": "HRnTzYi7E9MD"
      },
      "source": [
        "終極密碼(用最大最小值判斷)"
      ]
    },
    {
      "cell_type": "code",
      "metadata": {
        "id": "jTM6Xrg48xHc",
        "outputId": "e76112c8-abd9-4c97-af98-b85a7d00ff1b",
        "colab": {
          "base_uri": "https://localhost:8080/"
        }
      },
      "source": [
        "from random import randint\n",
        "\n",
        "#規定範圍並產生密碼\n",
        "lowest = 1\n",
        "highest = 100\n",
        "answer = randint(lowest, highest)\n",
        "\n",
        "#重複猜數字，直到猜對為止\n",
        "while True:\n",
        "    guess = input('密碼介於 ' + str(lowest) + '-' + str(highest) + ':\\n>>')\n",
        "    \n",
        "    #檢查輸入的內容是否為數字\n",
        "    try:\n",
        "        guess = int(guess)  #把字串轉換成整數\n",
        "    except ValueError:  #轉換失敗便要求重新輸入數字\n",
        "        print('格式錯誤，請輸入數字\\n')\n",
        "        continue\n",
        "    \n",
        "    #檢查輸入的數字是否介於規定範圍內\n",
        "    if guess <= lowest or guess >= highest:\n",
        "        print('請輸入 ' + str(lowest) + '-' + str(highest) + ' 之間的整數\\n')\n",
        "        continue\n",
        "    \n",
        "    #判斷有沒有猜中密碼\n",
        "    if guess == answer:\n",
        "        print('答對了！')\n",
        "        break   #猜對才跳脫迴圈\n",
        "    elif guess < answer:\n",
        "        lowest = guess\n",
        "    else:\n",
        "        highest = guess"
      ],
      "execution_count": 13,
      "outputs": [
        {
          "output_type": "stream",
          "text": [
            "密碼介於 1-100:\n",
            ">>55\n",
            "密碼介於 55-100:\n",
            ">>65\n",
            "密碼介於 65-100:\n",
            ">>80\n",
            "密碼介於 80-100:\n",
            ">>95\n",
            "密碼介於 95-100:\n",
            ">>98\n",
            "密碼介於 98-100:\n",
            ">>99\n",
            "答對了！\n"
          ],
          "name": "stdout"
        }
      ]
    },
    {
      "cell_type": "markdown",
      "metadata": {
        "id": "qpIV9CU3Ggdp"
      },
      "source": [
        "河內塔"
      ]
    },
    {
      "cell_type": "code",
      "metadata": {
        "id": "5gw933_0GjZy",
        "outputId": "f1d8e9c8-1e90-4257-d329-b69479d5d0bd",
        "colab": {
          "base_uri": "https://localhost:8080/"
        }
      },
      "source": [
        "def hanoi(n, A, B, C):                                   #計算河內塔運算步數函式\n",
        "    if n == 1:\n",
        "        return [(A, C)]\n",
        "    else:\n",
        "        return hanoi(n-1, A, C, B) + hanoi(1, A, B, C) + hanoi(n-1, B, A, C)\n",
        "\n",
        "n = input(\"請輸入盤子數量：\")\n",
        "a = 0                                            #設定a值當計數器\n",
        "for move in hanoi(int(n), 'A', 'B', 'C'):                        #以輸入盤數去做迴圈運算\n",
        "  a = a+1\n",
        "  print(\"%c --> %c 執行次數:\" %move ,a)\n",
        "    "
      ],
      "execution_count": 25,
      "outputs": [
        {
          "output_type": "stream",
          "text": [
            "請輸入盤子數量：5\n",
            "A --> C 執行結果: 1\n",
            "A --> B 執行結果: 2\n",
            "C --> B 執行結果: 3\n",
            "A --> C 執行結果: 4\n",
            "B --> A 執行結果: 5\n",
            "B --> C 執行結果: 6\n",
            "A --> C 執行結果: 7\n",
            "A --> B 執行結果: 8\n",
            "C --> B 執行結果: 9\n",
            "C --> A 執行結果: 10\n",
            "B --> A 執行結果: 11\n",
            "C --> B 執行結果: 12\n",
            "A --> C 執行結果: 13\n",
            "A --> B 執行結果: 14\n",
            "C --> B 執行結果: 15\n",
            "A --> C 執行結果: 16\n",
            "B --> A 執行結果: 17\n",
            "B --> C 執行結果: 18\n",
            "A --> C 執行結果: 19\n",
            "B --> A 執行結果: 20\n",
            "C --> B 執行結果: 21\n",
            "C --> A 執行結果: 22\n",
            "B --> A 執行結果: 23\n",
            "B --> C 執行結果: 24\n",
            "A --> C 執行結果: 25\n",
            "A --> B 執行結果: 26\n",
            "C --> B 執行結果: 27\n",
            "A --> C 執行結果: 28\n",
            "B --> A 執行結果: 29\n",
            "B --> C 執行結果: 30\n",
            "A --> C 執行結果: 31\n"
          ],
          "name": "stdout"
        }
      ]
    }
  ]
}