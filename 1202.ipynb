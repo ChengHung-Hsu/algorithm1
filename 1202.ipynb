{
  "nbformat": 4,
  "nbformat_minor": 0,
  "metadata": {
    "colab": {
      "name": "Untitled5.ipynb",
      "provenance": [],
      "authorship_tag": "ABX9TyME4j/nObSVWja307CbE9HZ",
      "include_colab_link": true
    },
    "kernelspec": {
      "name": "python3",
      "display_name": "Python 3"
    }
  },
  "cells": [
    {
      "cell_type": "markdown",
      "metadata": {
        "id": "view-in-github",
        "colab_type": "text"
      },
      "source": [
        "<a href=\"https://colab.research.google.com/github/ChengHung-Hsu/algorithm1/blob/master/1202.ipynb\" target=\"_parent\"><img src=\"https://colab.research.google.com/assets/colab-badge.svg\" alt=\"Open In Colab\"/></a>"
      ]
    },
    {
      "cell_type": "markdown",
      "metadata": {
        "id": "dA02JirLWu9R"
      },
      "source": [
        "1-1找零問題-貪婪法\n"
      ]
    },
    {
      "cell_type": "code",
      "metadata": {
        "colab": {
          "base_uri": "https://localhost:8080/"
        },
        "id": "xJoyqIA5DnEW",
        "outputId": "643d85ae-149e-458c-89a8-ad5f6b1e0a86"
      },
      "source": [
        "# t = 面額\n",
        "t=[25,20,5,1]\n",
        "\n",
        "# n = 多少錢\n",
        "def change(t,n):\n",
        "  m = [0 for _ in range(len(t))]\n",
        "  for i, money in enumerate(t):\n",
        "    m[i] = n // money\n",
        "    n = n % money\n",
        "    return m, n\n",
        "\n",
        "\n",
        "print(change(t,41))\n"
      ],
      "execution_count": null,
      "outputs": [
        {
          "output_type": "stream",
          "text": [
            "([1, 0, 0, 0], 16)\n"
          ],
          "name": "stdout"
        }
      ]
    },
    {
      "cell_type": "markdown",
      "metadata": {
        "id": "fQ7lxQ9LWqc_"
      },
      "source": [
        "1-2找零問題-動態規劃"
      ]
    },
    {
      "cell_type": "code",
      "metadata": {
        "id": "RQRBH4GvXBc0"
      },
      "source": [
        ""
      ],
      "execution_count": null,
      "outputs": []
    },
    {
      "cell_type": "markdown",
      "metadata": {
        "id": "5ls0tusXXcQQ"
      },
      "source": [
        "2-1背包問題-貪婪法"
      ]
    },
    {
      "cell_type": "code",
      "metadata": {
        "id": "gYuEeeGLXiqy"
      },
      "source": [
        ""
      ],
      "execution_count": null,
      "outputs": []
    },
    {
      "cell_type": "markdown",
      "metadata": {
        "id": "y9dTtHXtXjWx"
      },
      "source": [
        "2-2背包問題-動態規劃"
      ]
    },
    {
      "cell_type": "code",
      "metadata": {
        "id": "u-L1Kf-0Xnqe"
      },
      "source": [
        ""
      ],
      "execution_count": null,
      "outputs": []
    }
  ]
}