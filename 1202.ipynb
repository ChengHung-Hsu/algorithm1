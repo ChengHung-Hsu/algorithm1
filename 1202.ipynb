{
  "nbformat": 4,
  "nbformat_minor": 0,
  "metadata": {
    "colab": {
      "name": "Untitled5.ipynb",
      "provenance": [],
      "include_colab_link": true
    },
    "kernelspec": {
      "name": "python3",
      "display_name": "Python 3"
    }
  },
  "cells": [
    {
      "cell_type": "markdown",
      "metadata": {
        "id": "view-in-github",
        "colab_type": "text"
      },
      "source": [
        "<a href=\"https://colab.research.google.com/github/ChengHung-Hsu/algorithm1/blob/master/1202.ipynb\" target=\"_parent\"><img src=\"https://colab.research.google.com/assets/colab-badge.svg\" alt=\"Open In Colab\"/></a>"
      ]
    },
    {
      "cell_type": "markdown",
      "metadata": {
        "id": "dA02JirLWu9R"
      },
      "source": [
        "1-1找零問題-貪婪法\n"
      ]
    },
    {
      "cell_type": "code",
      "metadata": {
        "colab": {
          "base_uri": "https://localhost:8080/"
        },
        "id": "xJoyqIA5DnEW",
        "outputId": "4bc889c1-c29f-4f16-a0a6-6e21e81e7568"
      },
      "source": [
        "# t = 面額\n",
        "t=[25,20,5,1]\n",
        "\n",
        "# n = 多少錢\n",
        "def change(t,n):\n",
        "  m = [0 for _ in range(len(t))]\n",
        "  for i, money in enumerate(t):\n",
        "    m[i] = n // money\n",
        "    n = n % money\n",
        "    print(m, end='')       \n",
        "    print(n)         #不要return,讓他一直跑直到找不到  \n",
        "\n",
        "\n",
        "print(change(t,41))\n"
      ],
      "execution_count": null,
      "outputs": [
        {
          "output_type": "stream",
          "text": [
            "[1, 0, 0, 0]16\n",
            "[1, 0, 0, 0]16\n",
            "[1, 0, 3, 0]1\n",
            "[1, 0, 3, 1]0\n",
            "None\n"
          ],
          "name": "stdout"
        }
      ]
    },
    {
      "cell_type": "markdown",
      "metadata": {
        "id": "fQ7lxQ9LWqc_"
      },
      "source": [
        "1-2找零問題-動態規劃"
      ]
    },
    {
      "cell_type": "code",
      "metadata": {
        "id": "RQRBH4GvXBc0",
        "colab": {
          "base_uri": "https://localhost:8080/"
        },
        "outputId": "dc3e392c-0f04-4c56-e49f-4b81a2ad1483"
      },
      "source": [
        "def coin_change(coins, change, dp, coins_use): #動態規劃來找錢幣數量和使用情形\n",
        "  for i in range(1,change+1):\n",
        "    for j in range(len(coins)):\n",
        "      if coins[j] <= i:\n",
        "        if dp[i-coins[j]]+1 < dp[i]:\n",
        "          dp[i] = dp[i-coins[j]]+1\n",
        "          new_coin = coins[j]\n",
        "    coins_use[i] = new_coin\n",
        "  \n",
        "  if dp[change] > change:\n",
        "    return -1\n",
        "  else:\n",
        "    return dp[change]\n",
        "\n",
        "def coin_use(change, coin_use): #如何使用錢幣\n",
        "  re=[]\n",
        "  while change:\n",
        "    tmp = coin_use[change]\n",
        "    re.append(tmp)\n",
        "    change -= tmp\n",
        "  return re\n",
        "\n",
        "if __name__=='__main__':     #輸出資料設定\n",
        "  coins = [25,20,5,1]        \n",
        "  change = 41\n",
        "  dp = [change+1]*(change+1)\n",
        "  dp[0] = 0\n",
        "  coins_used = [0]*(change+1)\n",
        "\n",
        "  re = coin_change(coins, change, dp, coins_used)\n",
        "  re_coins = coin_use(change, coins_used)\n",
        "  print(\"找{0}元需要{1}個硬幣,分別是{2}\".format(change,re,re_coins))"
      ],
      "execution_count": 25,
      "outputs": [
        {
          "output_type": "stream",
          "text": [
            "找41元需要3個硬幣,分別是[20, 20, 1]\n"
          ],
          "name": "stdout"
        }
      ]
    },
    {
      "cell_type": "markdown",
      "metadata": {
        "id": "5ls0tusXXcQQ"
      },
      "source": [
        "2-1背包問題-貪婪法"
      ]
    },
    {
      "cell_type": "code",
      "metadata": {
        "id": "gYuEeeGLXiqy",
        "colab": {
          "base_uri": "https://localhost:8080/"
        },
        "outputId": "4b93e0b4-ab5d-4806-ddd2-81a936019681"
      },
      "source": [
        "def Knapsack(Mybag, weight, price):\n",
        "  r1 = [ v/w for v, w in zip(price, weight) ]    \n",
        "  a = len(weight)\n",
        "  index = list(range(a))\n",
        "  index.sort(key= lambda i : r1[i], reverse = True)   #運算最高價格\n",
        "  highest_value = 0\n",
        "  r2 = [0]*a\n",
        "  for i in index:\n",
        "    if weight[i] <= Mybag:                #單位重<=背包負荷重\n",
        "      highest_value += price[i]\n",
        "      Mybag -= weight[i]\n",
        "      r2[i] = 1\n",
        "    else:                          #單位重=背包負荷重，跳出迴圈\n",
        "      r2[i] = Mybag//weight[i]\n",
        "      highest_value += price[i]*r2[i]\n",
        "      break\n",
        "  print(\"背包內3C選取:\",end='')\n",
        "  print(r2)\n",
        "  print(\"貪婪搜尋最大金額:\",end='')\n",
        "  return highest_value                    #印出當前選取產品後，回傳值                   \n",
        "  print(r1)\n",
        "\n",
        "Mybag = 10\n",
        "weight = [5,1,4,3,2]\n",
        "price = [17000, 35000, 60000, 9000, 20000]\n",
        " \n",
        "print(Knapsack(Mybag, weight, price))"
      ],
      "execution_count": 18,
      "outputs": [
        {
          "output_type": "stream",
          "text": [
            "背包內3C選取:[0, 1, 1, 0, 1]\n",
            "貪婪搜尋最大金額:115000\n"
          ],
          "name": "stdout"
        }
      ]
    },
    {
      "cell_type": "markdown",
      "metadata": {
        "id": "y9dTtHXtXjWx"
      },
      "source": [
        "2-2背包問題-動態規劃"
      ]
    },
    {
      "cell_type": "code",
      "metadata": {
        "id": "u-L1Kf-0Xnqe",
        "colab": {
          "base_uri": "https://localhost:8080/"
        },
        "outputId": "61bf8f02-663e-4b07-c476-6fe687738ffa"
      },
      "source": [
        "# 把3C放入背包，重量、價格分別是（v,price）\n",
        "# 背包總負重C，在限制重量內塞進最有價值物品\n",
        "import numpy as np\n",
        "def BackPack():\n",
        "    Total = 10\n",
        "    num = 5\n",
        "    v = [5,1,4,3,2]\n",
        "    price = [17000,35000,60000,9000,20000] \n",
        "    sum = np.zeros((num+1,Total+1)) # 因為二維數據互相比較，用陣列創造一個二维的空間\n",
        "    \n",
        "    for ele in range(num+1): # 3C數量\n",
        "        for c in range(Total+1): # 背包負重\n",
        "            if(ele==0):    # 若沒有裝入3C\n",
        "              sum[ele][c]=0\n",
        "            else:\n",
        "              sum[ele][c]=sum[ele-1][c]\n",
        "            if(ele>0 and c>=v[ele-1]): # ele>0,且背包可放下3C\n",
        "              sum[ele][c]=max(sum[ele-1][c],sum[ele-1][c-v[ele-1]]+price[ele-1])\n",
        "\n",
        "    print(\"DP最大金額:\",sum[num][Total])\n",
        " \n",
        "    # 紀錄最後裝入背包的3C，並印出pack[]\n",
        "    BackPack=np.zeros((num))\n",
        "    volume = Total\n",
        "    for ele in range(num,-1,-1):  # 倒敘（循環）\n",
        "      if(sum[ele][volume]>sum[ele-1][volume]):  # 如果加入後一個比前一個價值還要高\n",
        "        BackPack[ele-1]=1\n",
        "        volume=volume-v[ele-1]\n",
        " \n",
        "    print(\"3C塞到包包情況:\",BackPack)\n",
        " \n",
        "if __name__==\"__main__\":\n",
        "  BackPack()"
      ],
      "execution_count": 19,
      "outputs": [
        {
          "output_type": "stream",
          "text": [
            "DP最大金額: 124000.0\n",
            "3C塞到包包情況: [0. 1. 1. 1. 1.]\n"
          ],
          "name": "stdout"
        }
      ]
    }
  ]
}