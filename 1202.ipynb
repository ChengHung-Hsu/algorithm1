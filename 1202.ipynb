{
  "nbformat": 4,
  "nbformat_minor": 0,
  "metadata": {
    "colab": {
      "name": "Untitled5.ipynb",
      "provenance": [],
      "authorship_tag": "ABX9TyMCLUV7mm+510WDrNB7n2T4",
      "include_colab_link": true
    },
    "kernelspec": {
      "name": "python3",
      "display_name": "Python 3"
    }
  },
  "cells": [
    {
      "cell_type": "markdown",
      "metadata": {
        "id": "view-in-github",
        "colab_type": "text"
      },
      "source": [
        "<a href=\"https://colab.research.google.com/github/ChengHung-Hsu/algorithm1/blob/master/1202.ipynb\" target=\"_parent\"><img src=\"https://colab.research.google.com/assets/colab-badge.svg\" alt=\"Open In Colab\"/></a>"
      ]
    },
    {
      "cell_type": "markdown",
      "metadata": {
        "id": "dA02JirLWu9R"
      },
      "source": [
        "1-1找零問題-貪婪法\n"
      ]
    },
    {
      "cell_type": "code",
      "metadata": {
        "colab": {
          "base_uri": "https://localhost:8080/"
        },
        "id": "xJoyqIA5DnEW",
        "outputId": "4bc889c1-c29f-4f16-a0a6-6e21e81e7568"
      },
      "source": [
        "# t = 面額\n",
        "t=[25,20,5,1]\n",
        "\n",
        "# n = 多少錢\n",
        "def change(t,n):\n",
        "  m = [0 for _ in range(len(t))]\n",
        "  for i, money in enumerate(t):\n",
        "    m[i] = n // money\n",
        "    n = n % money\n",
        "    print(m, end='')\n",
        "    print(n)\n",
        "\n",
        "\n",
        "print(change(t,41))\n"
      ],
      "execution_count": 15,
      "outputs": [
        {
          "output_type": "stream",
          "text": [
            "[1, 0, 0, 0]16\n",
            "[1, 0, 0, 0]16\n",
            "[1, 0, 3, 0]1\n",
            "[1, 0, 3, 1]0\n",
            "None\n"
          ],
          "name": "stdout"
        }
      ]
    },
    {
      "cell_type": "markdown",
      "metadata": {
        "id": "fQ7lxQ9LWqc_"
      },
      "source": [
        "1-2找零問題-動態規劃"
      ]
    },
    {
      "cell_type": "code",
      "metadata": {
        "id": "RQRBH4GvXBc0",
        "outputId": "cea6356d-59e6-4cfd-909f-5a2622f04f22",
        "colab": {
          "base_uri": "https://localhost:8080/",
          "height": 131
        }
      },
      "source": [
        "def change(n, coins_available, coins_so_far):\n",
        "  if sum(coins_so_far) == n:\n",
        "    yield coins_so_far\n",
        "  elif sum(coins_so_far) > n:\n",
        "    pass\n",
        "  elif coins_available == []:\n",
        "    pass\n",
        "  else:\n",
        "    for c in change(n, coins_available[:], coins_so_far+[coins_available[0]]):\n",
        "      yield c\n",
        "    for c in change(n, coins_available[1:], coins_so_far):\n",
        "      yield c\n",
        "\n",
        "n = 41\n",
        "coins = [1,5,20,25]\n",
        "\n",
        "solutions = [s for s in change(n, coins, [])]\n",
        "for s in solutions:\n",
        "  print(s)\n",
        "\n",
        "print (optimal solution:), min(solutions, key=len)"
      ],
      "execution_count": 13,
      "outputs": [
        {
          "output_type": "error",
          "ename": "SyntaxError",
          "evalue": "ignored",
          "traceback": [
            "\u001b[0;36m  File \u001b[0;32m\"<ipython-input-13-955cfbb70d10>\"\u001b[0;36m, line \u001b[0;32m21\u001b[0m\n\u001b[0;31m    print (optimal solution:), min(solutions, key=len)\u001b[0m\n\u001b[0m                          ^\u001b[0m\n\u001b[0;31mSyntaxError\u001b[0m\u001b[0;31m:\u001b[0m invalid syntax\n"
          ]
        }
      ]
    },
    {
      "cell_type": "markdown",
      "metadata": {
        "id": "5ls0tusXXcQQ"
      },
      "source": [
        "2-1背包問題-貪婪法"
      ]
    },
    {
      "cell_type": "code",
      "metadata": {
        "id": "gYuEeeGLXiqy"
      },
      "source": [
        ""
      ],
      "execution_count": null,
      "outputs": []
    },
    {
      "cell_type": "markdown",
      "metadata": {
        "id": "y9dTtHXtXjWx"
      },
      "source": [
        "2-2背包問題-動態規劃"
      ]
    },
    {
      "cell_type": "code",
      "metadata": {
        "id": "u-L1Kf-0Xnqe"
      },
      "source": [
        ""
      ],
      "execution_count": null,
      "outputs": []
    }
  ]
}