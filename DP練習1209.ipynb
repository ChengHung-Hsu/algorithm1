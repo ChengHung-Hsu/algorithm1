{
  "nbformat": 4,
  "nbformat_minor": 0,
  "metadata": {
    "colab": {
      "name": "Untitled6.ipynb",
      "provenance": [],
      "authorship_tag": "ABX9TyMobod1vvPacDqEAWKfwaj2",
      "include_colab_link": true
    },
    "kernelspec": {
      "name": "python3",
      "display_name": "Python 3"
    }
  },
  "cells": [
    {
      "cell_type": "markdown",
      "metadata": {
        "id": "view-in-github",
        "colab_type": "text"
      },
      "source": [
        "<a href=\"https://colab.research.google.com/github/ChengHung-Hsu/algorithm1/blob/master/DP%E7%B7%B4%E7%BF%921209.ipynb\" target=\"_parent\"><img src=\"https://colab.research.google.com/assets/colab-badge.svg\" alt=\"Open In Colab\"/></a>"
      ]
    },
    {
      "cell_type": "code",
      "metadata": {
        "id": "DYG3gnzcFFkL"
      },
      "source": [
        "DP練習(12/9):\r\n",
        "\r\n",
        "d(S,T) = min{1+d(A,T), 2+d(B,T), 5+d(C,T)}\r\n",
        "d(A,T) = min{4+d(D,T)} = 4+1 = 5\r\n",
        "d(B,T) = min{11+d(D,T), d(B,T), 16+d(F,T)} = min{11+1, 13, 16+2} = 12\r\n",
        "d(C,T) = min{2+d(C,T)} = 2+2 = 4\r\n",
        "--------------------------------------------------------------------------------\r\n",
        "d(S,T) = min{1+d(A,T), 2+d(B,T), 5+d(C,T)}\r\n",
        "     = min{1+5, 2+12, 5+4} = 6\r\n"
      ],
      "execution_count": null,
      "outputs": []
    },
    {
      "cell_type": "markdown",
      "metadata": {
        "id": "ciTGEynWPPVd"
      },
      "source": [
        ""
      ]
    }
  ]
}