{
  "nbformat": 4,
  "nbformat_minor": 0,
  "metadata": {
    "colab": {
      "name": "Untitled7.ipynb",
      "provenance": [],
      "authorship_tag": "ABX9TyN9qh5jJTKXwkBVZLIWjHNp",
      "include_colab_link": true
    },
    "kernelspec": {
      "name": "python3",
      "display_name": "Python 3"
    }
  },
  "cells": [
    {
      "cell_type": "markdown",
      "metadata": {
        "id": "view-in-github",
        "colab_type": "text"
      },
      "source": [
        "<a href=\"https://colab.research.google.com/github/ChengHung-Hsu/algorithm1/blob/master/1209-DP-ChainCutting.ipynb\" target=\"_parent\"><img src=\"https://colab.research.google.com/assets/colab-badge.svg\" alt=\"Open In Colab\"/></a>"
      ]
    },
    {
      "cell_type": "code",
      "metadata": {
        "colab": {
          "base_uri": "https://localhost:8080/"
        },
        "id": "KMimDMSxXogf",
        "outputId": "44e3371e-cf3d-4b94-ee5b-6a5dcfa57401"
      },
      "source": [
        "def ChainCut(p, n):  # 函式返回：切割長度為 n 的鋼條所得的最大收益\r\n",
        "    if n == 0:\r\n",
        "        return 0\r\n",
        "    q = -1\r\n",
        "    for i in range(1, n+1):\r\n",
        "        q = max(q, p[i] + CutRod(p, n-i)) \r\n",
        "    return q\r\n",
        "\r\n",
        "p=[0,1,5,8,9,10,17,17,20,24,30]   # 鍊條價格表，下標為對應的鋼條長度，如當鋼條長度為0時，p=0,即p[0]=0，p[2]=5\r\n",
        "a = int(input())\r\n",
        "print(\"最大收益為：\", ChainCut(p,a))  #  最大收益為： 10"
      ],
      "execution_count": 7,
      "outputs": [
        {
          "output_type": "stream",
          "text": [
            "10\n",
            "最大收益為： 30\n"
          ],
          "name": "stdout"
        }
      ]
    }
  ]
}