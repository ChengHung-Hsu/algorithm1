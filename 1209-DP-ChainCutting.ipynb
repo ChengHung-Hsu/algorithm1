{
  "nbformat": 4,
  "nbformat_minor": 0,
  "metadata": {
    "colab": {
      "name": "Untitled7.ipynb",
      "provenance": [],
      "include_colab_link": true
    },
    "kernelspec": {
      "name": "python3",
      "display_name": "Python 3"
    }
  },
  "cells": [
    {
      "cell_type": "markdown",
      "metadata": {
        "id": "view-in-github",
        "colab_type": "text"
      },
      "source": [
        "<a href=\"https://colab.research.google.com/github/ChengHung-Hsu/algorithm1/blob/master/1209-DP-ChainCutting.ipynb\" target=\"_parent\"><img src=\"https://colab.research.google.com/assets/colab-badge.svg\" alt=\"Open In Colab\"/></a>"
      ]
    },
    {
      "cell_type": "code",
      "metadata": {
        "colab": {
          "base_uri": "https://localhost:8080/"
        },
        "id": "KMimDMSxXogf",
        "outputId": "0c814ff7-28a2-4443-8026-cd173545e736"
      },
      "source": [
        "def ChainCut(b, a):  # 函式:切割長度為 a 的鋼條所得的最大收益\r\n",
        "    if a == 0:\r\n",
        "        return 0\r\n",
        "    c = -1            #其他情況(即鍊條長度>0時)\r\n",
        "    for i in range(1, a+1):   #一個一個找直到找到max解\r\n",
        "        c = max(c, b[i] + ChainCut(b, a-i)) \r\n",
        "    return c\r\n",
        "\r\n",
        "b=[0,1,5,8,9,10,17,17,20,24,30]   # 鍊條價格表，如當切割鋼條長度0時，即p[0]=0，p[1]=1....\r\n",
        "\r\n",
        "print(\"請輸入鍊條長度: \",end='')\r\n",
        "a = int(input())\r\n",
        "print(\"最大收益為：\",ChainCut(b,a))  #  最大收益為：30"
      ],
      "execution_count": 7,
      "outputs": [
        {
          "output_type": "stream",
          "text": [
            "請輸入鍊條長度: 10\n",
            "最大收益為： 30\n"
          ],
          "name": "stdout"
        }
      ]
    }
  ]
}