{
  "nbformat": 4,
  "nbformat_minor": 0,
  "metadata": {
    "colab": {
      "name": "Untitled6.ipynb",
      "provenance": [],
      "authorship_tag": "ABX9TyP+4eMViGRK1QcXJ6q09T2v",
      "include_colab_link": true
    },
    "kernelspec": {
      "name": "python3",
      "display_name": "Python 3"
    }
  },
  "cells": [
    {
      "cell_type": "markdown",
      "metadata": {
        "id": "view-in-github",
        "colab_type": "text"
      },
      "source": [
        "<a href=\"https://colab.research.google.com/github/ChengHung-Hsu/algorithm1/blob/master/1209%20DP%E6%9C%80%E4%BD%B3%E8%B7%AF%E5%BE%91%E8%B7%9F%E9%8D%8A%E6%A2%9D%E5%88%87%E5%89%B2%E4%B8%8A%E8%AA%B2%E7%B7%B4%E7%BF%92.ipynb\" target=\"_parent\"><img src=\"https://colab.research.google.com/assets/colab-badge.svg\" alt=\"Open In Colab\"/></a>"
      ]
    },
    {
      "cell_type": "markdown",
      "metadata": {
        "id": "h1QlJjyYWaOm"
      },
      "source": [
        "DP練習(12/9):"
      ]
    },
    {
      "cell_type": "code",
      "metadata": {
        "id": "DYG3gnzcFFkL"
      },
      "source": [
        "\r\n",
        "d(S,T) = min{1+d(A,T), 2+d(B,T), 5+d(C,T)}\r\n",
        "d(A,T) = min{4+d(D,T)} = 4+1 = 5\r\n",
        "d(B,T) = min{11+d(D,T), d(B,T), 16+d(F,T)} = min{11+1, 13, 16+2} = 12\r\n",
        "d(C,T) = min{2+d(C,T)} = 2+2 = 4\r\n",
        "--------------------------------------------------------------------------------\r\n",
        "d(S,T) = min{1+d(A,T), 2+d(B,T), 5+d(C,T)}\r\n",
        "     = min{1+5, 2+12, 5+4} = 6\r\n"
      ],
      "execution_count": null,
      "outputs": []
    },
    {
      "cell_type": "markdown",
      "metadata": {
        "id": "ti5CXzZrWdtU"
      },
      "source": [
        "鐵條切割(12/09):\r\n"
      ]
    },
    {
      "cell_type": "code",
      "metadata": {
        "id": "_8D3l9KjWtze"
      },
      "source": [
        "隨便湊5個過程: \r\n",
        "(1) {1,2,4} = 15 \r\n",
        "(2) {1,3,3} = 17 \r\n",
        "(3) {1,5,1} = 12 \r\n",
        ". . . . . \r\n",
        "找到最高價值18: \r\n",
        "   {1,6} = 18 \r\n",
        "   {2,2,3} = 18"
      ],
      "execution_count": null,
      "outputs": []
    }
  ]
}