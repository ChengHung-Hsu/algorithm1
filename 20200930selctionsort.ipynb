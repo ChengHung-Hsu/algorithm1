{
  "nbformat": 4,
  "nbformat_minor": 0,
  "metadata": {
    "colab": {
      "name": "selctionsort.ipynb",
      "provenance": [],
      "collapsed_sections": [],
      "include_colab_link": true
    },
    "kernelspec": {
      "name": "python3",
      "display_name": "Python 3"
    }
  },
  "cells": [
    {
      "cell_type": "markdown",
      "metadata": {
        "id": "view-in-github",
        "colab_type": "text"
      },
      "source": [
        "<a href=\"https://colab.research.google.com/github/ChengHung-Hsu/algorithm1/blob/master/20200930selctionsort.ipynb\" target=\"_parent\"><img src=\"https://colab.research.google.com/assets/colab-badge.svg\" alt=\"Open In Colab\"/></a>"
      ]
    },
    {
      "cell_type": "markdown",
      "metadata": {
        "id": "W-Z0kMaDLJOp"
      },
      "source": [
        "Selection sort (選擇排序)"
      ]
    },
    {
      "cell_type": "code",
      "metadata": {
        "id": "8tM3sv79HQ_V",
        "outputId": "9a70e948-e33d-462c-823a-9f0a981ccc17",
        "colab": {
          "base_uri": "https://localhost:8080/",
          "height": 527
        }
      },
      "source": [
        "def Selction_Sort(datas):\n",
        "    for i in range(len(datas)-1):                        #n                               \n",
        "        min = i # 第一次選從第一個數開始,第二次從第二個數開始        #n\n",
        "        for j in range(i+1, len(datas)): # 用記錄的max數與其他的比較    #n*n\n",
        "            if datas[j] < datas[min]:                    #n\n",
        "                min = j                          #n\n",
        "                                               \n",
        "        datas[i], datas[min] = datas[min], datas[i]                #n                                  \n",
        "\n",
        "        print(datas)                                  #n\n",
        "        print('---'*10)                                 #n\n",
        "    return datas                                       #1\n",
        "                                            #Total = n*n+7n+1   O(n*n)\n",
        "\n",
        "if __name__ == '__main__':\n",
        "    import random\n",
        "    a = list(range(1,16))\n",
        "    random.shuffle(a)\n",
        "    print(a)\n",
        "    a = Selction_Sort(a)\n",
        "    print(a)"
      ],
      "execution_count": null,
      "outputs": [
        {
          "output_type": "stream",
          "text": [
            "[12, 15, 14, 10, 6, 1, 11, 3, 4, 5, 7, 8, 9, 2, 13]\n",
            "[1, 15, 14, 10, 6, 12, 11, 3, 4, 5, 7, 8, 9, 2, 13]\n",
            "------------------------------\n",
            "[1, 2, 14, 10, 6, 12, 11, 3, 4, 5, 7, 8, 9, 15, 13]\n",
            "------------------------------\n",
            "[1, 2, 3, 10, 6, 12, 11, 14, 4, 5, 7, 8, 9, 15, 13]\n",
            "------------------------------\n",
            "[1, 2, 3, 4, 6, 12, 11, 14, 10, 5, 7, 8, 9, 15, 13]\n",
            "------------------------------\n",
            "[1, 2, 3, 4, 5, 12, 11, 14, 10, 6, 7, 8, 9, 15, 13]\n",
            "------------------------------\n",
            "[1, 2, 3, 4, 5, 6, 11, 14, 10, 12, 7, 8, 9, 15, 13]\n",
            "------------------------------\n",
            "[1, 2, 3, 4, 5, 6, 7, 14, 10, 12, 11, 8, 9, 15, 13]\n",
            "------------------------------\n",
            "[1, 2, 3, 4, 5, 6, 7, 8, 10, 12, 11, 14, 9, 15, 13]\n",
            "------------------------------\n",
            "[1, 2, 3, 4, 5, 6, 7, 8, 9, 12, 11, 14, 10, 15, 13]\n",
            "------------------------------\n",
            "[1, 2, 3, 4, 5, 6, 7, 8, 9, 10, 11, 14, 12, 15, 13]\n",
            "------------------------------\n",
            "[1, 2, 3, 4, 5, 6, 7, 8, 9, 10, 11, 14, 12, 15, 13]\n",
            "------------------------------\n",
            "[1, 2, 3, 4, 5, 6, 7, 8, 9, 10, 11, 12, 14, 15, 13]\n",
            "------------------------------\n",
            "[1, 2, 3, 4, 5, 6, 7, 8, 9, 10, 11, 12, 13, 15, 14]\n",
            "------------------------------\n",
            "[1, 2, 3, 4, 5, 6, 7, 8, 9, 10, 11, 12, 13, 14, 15]\n",
            "------------------------------\n",
            "[1, 2, 3, 4, 5, 6, 7, 8, 9, 10, 11, 12, 13, 14, 15]\n"
          ],
          "name": "stdout"
        }
      ]
    },
    {
      "cell_type": "markdown",
      "metadata": {
        "id": "MiWPt8bALDN5"
      },
      "source": [
        "請加入註解\n"
      ]
    }
  ]
}