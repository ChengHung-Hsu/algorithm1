{
  "nbformat": 4,
  "nbformat_minor": 0,
  "metadata": {
    "colab": {
      "name": "Untitled3.ipynb",
      "provenance": [],
      "include_colab_link": true
    },
    "kernelspec": {
      "name": "python3",
      "display_name": "Python 3"
    }
  },
  "cells": [
    {
      "cell_type": "markdown",
      "metadata": {
        "id": "view-in-github",
        "colab_type": "text"
      },
      "source": [
        "<a href=\"https://colab.research.google.com/github/ChengHung-Hsu/algorithm1/blob/master/HashingSearch.ipynb\" target=\"_parent\"><img src=\"https://colab.research.google.com/assets/colab-badge.svg\" alt=\"Open In Colab\"/></a>"
      ]
    },
    {
      "cell_type": "markdown",
      "metadata": {
        "id": "-TQMDkVwEWfV"
      },
      "source": [
        "雜湊演算法-線性探測法"
      ]
    },
    {
      "cell_type": "code",
      "metadata": {
        "id": "0vKBhgpb6Zut",
        "outputId": "9238e89d-19b1-4674-b706-5925ae0c1206",
        "colab": {
          "base_uri": "https://localhost:8080/",
          "height": 221
        }
      },
      "source": [
        "import random\n",
        "\n",
        "INDEXBOX=10              #雜湊表最大元素\n",
        "MAXNUM=7                #最大資料個數\n",
        "\n",
        "def print_data(data,max_number):    #列印陣列副程式\n",
        "  print('\\t',end='')\n",
        "  for i in range(max_number):\n",
        "    print('[%2d]'%data[i],end='')\n",
        "  print()\n",
        "\n",
        "def create_table(num,index):      #建立雜湊表副程式\n",
        "  tmp = num%INDEXBOX         #雜湊函數=資料%INDEXBOX\n",
        "  while True:\n",
        "    if index[tmp]==-1:       #如果資料對應的位置是空的\n",
        "      index[tmp]=num        #則直接存入資料\n",
        "      break\n",
        "    else:\n",
        "      tmp=(tmp+1)%INDEXBOX      #否則往後找位置存放\n",
        "\n",
        "index=[None]*INDEXBOX\n",
        "data=[None]*MAXNUM\n",
        "\n",
        "print('原始陣列值:')\n",
        "for i in range(MAXNUM):         #起始資料值\n",
        "  data[i]=random.randint(1,20)\n",
        "for i in range(INDEXBOX):        #清除雜湊表\n",
        "  index[i]=-1\n",
        "print_data(data,MAXNUM)           #列印起始值\n",
        "\n",
        "print('雜湊表內容:')\n",
        "for i in range(MAXNUM):          #建立雜湊表\n",
        "  create_table(data[i],index)\n",
        "  print(' %2d=>'%data[i],end='')      #列印單一元素的雜湊表位置\n",
        "  print_data(index,INDEXBOX)\n",
        "\n",
        "print('完成雜湊表:')\n",
        "print_data(index,INDEXBOX)           #列印最後完成結果"
      ],
      "execution_count": null,
      "outputs": [
        {
          "output_type": "stream",
          "text": [
            "原始陣列值:\n",
            "\t[ 5][ 2][19][11][ 1][16][ 9]\n",
            "雜湊表內容:\n",
            "  5=>\t[-1][-1][-1][-1][-1][ 5][-1][-1][-1][-1]\n",
            "  2=>\t[-1][-1][ 2][-1][-1][ 5][-1][-1][-1][-1]\n",
            " 19=>\t[-1][-1][ 2][-1][-1][ 5][-1][-1][-1][19]\n",
            " 11=>\t[-1][11][ 2][-1][-1][ 5][-1][-1][-1][19]\n",
            "  1=>\t[-1][11][ 2][ 1][-1][ 5][-1][-1][-1][19]\n",
            " 16=>\t[-1][11][ 2][ 1][-1][ 5][16][-1][-1][19]\n",
            "  9=>\t[ 9][11][ 2][ 1][-1][ 5][16][-1][-1][19]\n",
            "完成雜湊表:\n",
            "\t[ 9][11][ 2][ 1][-1][ 5][16][-1][-1][19]\n"
          ],
          "name": "stdout"
        }
      ]
    },
    {
      "cell_type": "markdown",
      "metadata": {
        "id": "XQNTJr3dEjB-"
      },
      "source": [
        "雜湊演算法-平方法"
      ]
    },
    {
      "cell_type": "code",
      "metadata": {
        "id": "NOVbUMzdEoNY",
        "outputId": "c490a010-250c-4a47-db9d-6632f89f8408",
        "colab": {
          "base_uri": "https://localhost:8080/",
          "height": 224
        }
      },
      "source": [
        "import random\n",
        "\n",
        "INDEXBOX=10              #雜湊表最大元素\n",
        "MAXNUM=7                #最大資料個數\n",
        "\n",
        "def print_data(data,max_number):    #列印陣列副程式\n",
        "  print('\\t',end='')\n",
        "  for i in range(max_number):\n",
        "    print('[%2d]'%data[i],end='')\n",
        "  print()\n",
        "\n",
        "def create_table(num,index):      #建立雜湊表副程式\n",
        "  tmp = num%INDEXBOX         #雜湊函數=資料%INDEXBOX\n",
        "  j=1                  #設置變數j=1\n",
        "  temp = tmp              #再設置一個雜湊函數(分開計算，不然沒辦法隨當前的位置去改動)\n",
        "  while True:\n",
        "    if index[tmp]==-1:         #如果資料對應的位置是空的\n",
        "      index[tmp]=num          #則直接存入資料\n",
        "      break\n",
        "    else:\n",
        "      tmp=(temp+j**2)%INDEXBOX      #否則往後找(2+j*j)位置存放\n",
        "      j=j+1                #每次執行完+1\n",
        "\n",
        "index=[None]*INDEXBOX\n",
        "data=[None]*MAXNUM\n",
        "\n",
        "print('原始陣列值:')\n",
        "for i in range(MAXNUM):         #起始資料值\n",
        "  data[i]=random.randint(1,20)\n",
        "for i in range(INDEXBOX):        #清除雜湊表\n",
        "  index[i]=-1\n",
        "print_data(data,MAXNUM)           #列印起始值\n",
        "\n",
        "print('雜湊表內容:')\n",
        "for i in range(MAXNUM):          #建立雜湊表\n",
        "  create_table(data[i],index)\n",
        "  print(' %2d=>'%data[i],end='')      #列印單一元素的雜湊表位置\n",
        "  print_data(index,INDEXBOX)\n",
        "\n",
        "print('完成雜湊表:')\n",
        "print_data(index,INDEXBOX)           #列印最後完成結果"
      ],
      "execution_count": 11,
      "outputs": [
        {
          "output_type": "stream",
          "text": [
            "原始陣列值:\n",
            "\t[ 4][ 3][ 2][ 5][ 8][10][12]\n",
            "雜湊表內容:\n",
            "  4=>\t[-1][-1][-1][-1][ 4][-1][-1][-1][-1][-1]\n",
            "  3=>\t[-1][-1][-1][ 3][ 4][-1][-1][-1][-1][-1]\n",
            "  2=>\t[-1][-1][ 2][ 3][ 4][-1][-1][-1][-1][-1]\n",
            "  5=>\t[-1][-1][ 2][ 3][ 4][ 5][-1][-1][-1][-1]\n",
            "  8=>\t[-1][-1][ 2][ 3][ 4][ 5][-1][-1][ 8][-1]\n",
            " 10=>\t[10][-1][ 2][ 3][ 4][ 5][-1][-1][ 8][-1]\n",
            " 12=>\t[10][-1][ 2][ 3][ 4][ 5][12][-1][ 8][-1]\n",
            "完成雜湊表:\n",
            "\t[10][-1][ 2][ 3][ 4][ 5][12][-1][ 8][-1]\n"
          ],
          "name": "stdout"
        }
      ]
    },
    {
      "cell_type": "markdown",
      "metadata": {
        "id": "-t9myzhuEpEk"
      },
      "source": [
        "雜湊演算法-再雜湊法"
      ]
    },
    {
      "cell_type": "code",
      "metadata": {
        "id": "WElz_eBqEtZi",
        "outputId": "17d639eb-72c3-461e-8b33-49cb5db13371",
        "colab": {
          "base_uri": "https://localhost:8080/",
          "height": 224
        }
      },
      "source": [
        "import random\n",
        "\n",
        "INDEXBOX=10              #雜湊表最大元素\n",
        "MAXNUM=7                #最大資料個數\n",
        "\n",
        "def print_data(data,max_number):    #列印陣列副程式\n",
        "  print('\\t',end='')\n",
        "  for i in range(max_number):\n",
        "    print('[%2d]'%data[i],end='')\n",
        "  print()\n",
        "\n",
        "def create_table(num,index):      #建立雜湊表副程式\n",
        "  tmp = num%INDEXBOX         #雜湊函數=資料%INDEXBOX\n",
        "  while True:\n",
        "    j=2               #\"每次都會跳偶數位置，設一個變數2\"\n",
        "    if index[tmp]==-1:       #如果資料對應的位置是空的\n",
        "      index[tmp]=num        #則直接存入資料\n",
        "      break\n",
        "    else:\n",
        "      tmp=(tmp+j)%INDEXBOX      #\"每次跳j(偶數),否則往後找位置存放\"\n",
        "\n",
        "index=[None]*INDEXBOX\n",
        "data=[None]*MAXNUM\n",
        "\n",
        "print('原始陣列值:')\n",
        "for i in range(MAXNUM):         #起始資料值\n",
        "  data[i]=random.randint(1,20)\n",
        "for i in range(INDEXBOX):        #清除雜湊表\n",
        "  index[i]=-1\n",
        "print_data(data,MAXNUM)           #列印起始值\n",
        "\n",
        "print('雜湊表內容:')\n",
        "for i in range(MAXNUM):          #建立雜湊表\n",
        "  create_table(data[i],index)\n",
        "  print(' %2d=>'%data[i],end='')      #列印單一元素的雜湊表位置\n",
        "  print_data(index,INDEXBOX)\n",
        "\n",
        "print('完成雜湊表:')\n",
        "print_data(index,INDEXBOX)           #列印最後完成結果"
      ],
      "execution_count": null,
      "outputs": [
        {
          "output_type": "stream",
          "text": [
            "原始陣列值:\n",
            "\t[19][ 5][ 7][18][14][15][ 7]\n",
            "雜湊表內容:\n",
            " 19=>\t[-1][-1][-1][-1][-1][-1][-1][-1][-1][19]\n",
            "  5=>\t[-1][-1][-1][-1][-1][ 5][-1][-1][-1][19]\n",
            "  7=>\t[-1][-1][-1][-1][-1][ 5][-1][ 7][-1][19]\n",
            " 18=>\t[-1][-1][-1][-1][-1][ 5][-1][ 7][18][19]\n",
            " 14=>\t[-1][-1][-1][-1][14][ 5][-1][ 7][18][19]\n",
            " 15=>\t[-1][15][-1][-1][14][ 5][-1][ 7][18][19]\n",
            "  7=>\t[-1][15][-1][ 7][14][ 5][-1][ 7][18][19]\n",
            "完成雜湊表:\n",
            "\t[-1][15][-1][ 7][14][ 5][-1][ 7][18][19]\n"
          ],
          "name": "stdout"
        }
      ]
    }
  ]
}