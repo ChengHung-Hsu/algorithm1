{
  "nbformat": 4,
  "nbformat_minor": 0,
  "metadata": {
    "colab": {
      "name": "Untitled3.ipynb",
      "provenance": [],
      "authorship_tag": "ABX9TyMIZGGMxn+Mf6o9ROcO/+5D",
      "include_colab_link": true
    },
    "kernelspec": {
      "name": "python3",
      "display_name": "Python 3"
    }
  },
  "cells": [
    {
      "cell_type": "markdown",
      "metadata": {
        "id": "view-in-github",
        "colab_type": "text"
      },
      "source": [
        "<a href=\"https://colab.research.google.com/github/ChengHung-Hsu/algorithm1/blob/master/HashingSearch.ipynb\" target=\"_parent\"><img src=\"https://colab.research.google.com/assets/colab-badge.svg\" alt=\"Open In Colab\"/></a>"
      ]
    },
    {
      "cell_type": "markdown",
      "metadata": {
        "id": "-TQMDkVwEWfV"
      },
      "source": [
        "雜湊演算法-線性探測法"
      ]
    },
    {
      "cell_type": "code",
      "metadata": {
        "id": "0vKBhgpb6Zut",
        "outputId": "9238e89d-19b1-4674-b706-5925ae0c1206",
        "colab": {
          "base_uri": "https://localhost:8080/",
          "height": 221
        }
      },
      "source": [
        "import random\n",
        "\n",
        "INDEXBOX=10              #雜湊表最大元素\n",
        "MAXNUM=7                #最大資料個數\n",
        "\n",
        "def print_data(data,max_number):    #列印陣列副程式\n",
        "  print('\\t',end='')\n",
        "  for i in range(max_number):\n",
        "    print('[%2d]'%data[i],end='')\n",
        "  print()\n",
        "\n",
        "def create_table(num,index):      #建立雜湊表副程式\n",
        "  tmp = num%INDEXBOX         #雜湊函數=資料%INDEXBOX\n",
        "  while True:\n",
        "    if index[tmp]==-1:       #如果資料對應的位置是空的\n",
        "      index[tmp]=num        #則直接存入資料\n",
        "      break\n",
        "    else:\n",
        "      tmp=(tmp+1)%INDEXBOX      #否則往後找位置存放\n",
        "\n",
        "index=[None]*INDEXBOX\n",
        "data=[None]*MAXNUM\n",
        "\n",
        "print('原始陣列值:')\n",
        "for i in range(MAXNUM):         #起始資料值\n",
        "  data[i]=random.randint(1,20)\n",
        "for i in range(INDEXBOX):        #清除雜湊表\n",
        "  index[i]=-1\n",
        "print_data(data,MAXNUM)           #列印起始值\n",
        "\n",
        "print('雜湊表內容:')\n",
        "for i in range(MAXNUM):          #建立雜湊表\n",
        "  create_table(data[i],index)\n",
        "  print(' %2d=>'%data[i],end='')      #列印單一元素的雜湊表位置\n",
        "  print_data(index,INDEXBOX)\n",
        "\n",
        "print('完成雜湊表:')\n",
        "print_data(index,INDEXBOX)           #列印最後完成結果"
      ],
      "execution_count": 3,
      "outputs": [
        {
          "output_type": "stream",
          "text": [
            "原始陣列值:\n",
            "\t[ 5][ 2][19][11][ 1][16][ 9]\n",
            "雜湊表內容:\n",
            "  5=>\t[-1][-1][-1][-1][-1][ 5][-1][-1][-1][-1]\n",
            "  2=>\t[-1][-1][ 2][-1][-1][ 5][-1][-1][-1][-1]\n",
            " 19=>\t[-1][-1][ 2][-1][-1][ 5][-1][-1][-1][19]\n",
            " 11=>\t[-1][11][ 2][-1][-1][ 5][-1][-1][-1][19]\n",
            "  1=>\t[-1][11][ 2][ 1][-1][ 5][-1][-1][-1][19]\n",
            " 16=>\t[-1][11][ 2][ 1][-1][ 5][16][-1][-1][19]\n",
            "  9=>\t[ 9][11][ 2][ 1][-1][ 5][16][-1][-1][19]\n",
            "完成雜湊表:\n",
            "\t[ 9][11][ 2][ 1][-1][ 5][16][-1][-1][19]\n"
          ],
          "name": "stdout"
        }
      ]
    },
    {
      "cell_type": "markdown",
      "metadata": {
        "id": "XQNTJr3dEjB-"
      },
      "source": [
        "雜湊演算法-平方法"
      ]
    },
    {
      "cell_type": "code",
      "metadata": {
        "id": "NOVbUMzdEoNY"
      },
      "source": [
        ""
      ],
      "execution_count": null,
      "outputs": []
    },
    {
      "cell_type": "markdown",
      "metadata": {
        "id": "-t9myzhuEpEk"
      },
      "source": [
        "雜湊演算法-再雜湊法"
      ]
    },
    {
      "cell_type": "code",
      "metadata": {
        "id": "WElz_eBqEtZi"
      },
      "source": [
        ""
      ],
      "execution_count": null,
      "outputs": []
    }
  ]
}