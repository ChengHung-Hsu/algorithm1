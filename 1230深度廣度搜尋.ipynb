{
  "nbformat": 4,
  "nbformat_minor": 0,
  "metadata": {
    "colab": {
      "name": "Untitled11.ipynb",
      "provenance": [],
      "authorship_tag": "ABX9TyNjSFUGFveVQRbz6L8BDPrh",
      "include_colab_link": true
    },
    "kernelspec": {
      "name": "python3",
      "display_name": "Python 3"
    }
  },
  "cells": [
    {
      "cell_type": "markdown",
      "metadata": {
        "id": "view-in-github",
        "colab_type": "text"
      },
      "source": [
        "<a href=\"https://colab.research.google.com/github/ChengHung-Hsu/algorithm1/blob/master/1230%E6%B7%B1%E5%BA%A6%E5%BB%A3%E5%BA%A6%E6%90%9C%E5%B0%8B.ipynb\" target=\"_parent\"><img src=\"https://colab.research.google.com/assets/colab-badge.svg\" alt=\"Open In Colab\"/></a>"
      ]
    },
    {
      "cell_type": "markdown",
      "metadata": {
        "id": "qauMcVGYMBtp"
      },
      "source": [
        "![image.png](data:image/png;base64,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)"
      ]
    },
    {
      "cell_type": "code",
      "metadata": {
        "colab": {
          "base_uri": "https://localhost:8080/"
        },
        "id": "VDf4CJcMlfgC",
        "outputId": "56afc5a5-f615-4dcf-d499-5973ad83d225"
      },
      "source": [
        "def enqueue(a, o):\r\n",
        "    a.insert(0, o)\r\n",
        "\r\n",
        "def dequeue(a):\r\n",
        "    return a.pop()\r\n",
        "\r\n",
        "g = {                   #g(graph):被搜尋的path\r\n",
        "    '1': {'n':['2','3'], 'v':0},    #n(neighbor):['左','右'], v(visited):判斷拜訪紀錄\r\n",
        "    '2': {'n':['4','5'], 'v':0},\r\n",
        "    '3': {'n':['6'], 'v':0},\r\n",
        "    '4': {'n':['8'], 'v':0},\r\n",
        "    '5': {'n':[], 'v':0},\r\n",
        "    '6': {'n':['7'], 'v':0},\r\n",
        "    '7': {'n':[], 'v':0},\r\n",
        "    '8': {'n':[], 'v':0}\r\n",
        "   }\r\n",
        "\r\n",
        "def init(g):                    #設定visited為0\r\n",
        "    for i in g:\r\n",
        "        g[i]['v'] = 0\r\n",
        "\r\n",
        "def dfs(g, node):                 #深度優先搜尋\r\n",
        "    if g[node]['v']!=0:             #如果已訪問過，就不再訪問\r\n",
        "        return\r\n",
        "    print(node, '=> ', end = '')       #否則,印出節點\r\n",
        "    g[node]['v'] = 1               #並設定為\"已訪問\"\r\n",
        "    neighbors = g[node]['n']           #取出鄰居節點['左'，'右']\r\n",
        "    for n in neighbors:             #對於每個鄰居\r\n",
        "        dfs(g, n)               #逐一進行訪問\r\n",
        "\r\n",
        "queue=['1']                   #BFS 用的 queue, 起始點為 1。\r\n",
        "\r\n",
        "def bfs(g, q):                 #廣度優先搜尋\r\n",
        "    if len(q)==0:               #如果queue已空，則返回。\r\n",
        "        return\r\n",
        "    node = dequeue(q)             #否則,取出queue的第一個節點\r\n",
        "    if g[node]['v'] == 0:           #如果該節點尚未拜訪過\r\n",
        "        g[node]['v'] = 1          #標示為已拜訪\r\n",
        "    else:                     #否則(已訪問過)\r\n",
        "        return                #不繼續搜尋,直接返回\r\n",
        "    print(node, '=> ', end = '')     #印出節點\r\n",
        "    neighbors = g[node]['n']         #取出鄰居\r\n",
        "    for n in neighbors:            #對於每個鄰居\r\n",
        "        if not g[n]['v']:          #假如該鄰居還沒被拜訪過\r\n",
        "            enqueue(q, n)         #就放入queue中\r\n",
        "    bfs(g, q)\r\n",
        "\r\n",
        "print('dfs:', end = '')\r\n",
        "init(g)\r\n",
        "dfs(g, '1')                     #呼叫深度優先搜尋。\r\n",
        "print('')\r\n",
        "\r\n",
        "print('bfs:', end = '')\r\n",
        "init(g)\r\n",
        "bfs(g, queue)                    #呼叫廣度優先搜尋。\r\n",
        "print('')"
      ],
      "execution_count": 8,
      "outputs": [
        {
          "output_type": "stream",
          "text": [
            "dfs:1 => 2 => 4 => 8 => 5 => 3 => 6 => 7 => \n",
            "bfs:1 => 2 => 3 => 4 => 5 => 6 => 8 => 7 => \n"
          ],
          "name": "stdout"
        }
      ]
    }
  ]
}